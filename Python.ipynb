{
  "nbformat": 4,
  "nbformat_minor": 0,
  "metadata": {
    "colab": {
      "provenance": []
    },
    "kernelspec": {
      "name": "python3",
      "display_name": "Python 3"
    },
    "language_info": {
      "name": "python"
    }
  },
  "cells": [
    {
      "cell_type": "code",
      "execution_count": 6,
      "metadata": {
        "id": "gErbCoZFVksT"
      },
      "outputs": [],
      "source": [
        "def is_prime(x):\n",
        "  k = 0\n",
        "  for i in range(2, x//2+1):\n",
        "    if x % i == 0:\n",
        "      k += 1\n",
        "  if k == 0:\n",
        "    return True\n",
        "  else :\n",
        "    return False"
      ]
    },
    {
      "cell_type": "code",
      "source": [
        "a = int(input())\n",
        "print(is_prime(a))"
      ],
      "metadata": {
        "colab": {
          "base_uri": "https://localhost:8080/"
        },
        "id": "hnw3HfuGacuG",
        "outputId": "203b00a5-cc48-4771-bcbe-6ff34c1e0418"
      },
      "execution_count": 25,
      "outputs": [
        {
          "output_type": "stream",
          "name": "stdout",
          "text": [
            "4\n",
            "False\n"
          ]
        }
      ]
    },
    {
      "cell_type": "code",
      "source": [
        "import math\n",
        "def square(x):\n",
        "  p = 4*x\n",
        "  s = x*x\n",
        "  d = math.sqrt(2)*x\n",
        "  return (p, s, d)"
      ],
      "metadata": {
        "id": "L5lHccBUaf6L"
      },
      "execution_count": 22,
      "outputs": []
    },
    {
      "cell_type": "code",
      "source": [
        "b = int(input())\n",
        "print(square(b))"
      ],
      "metadata": {
        "colab": {
          "base_uri": "https://localhost:8080/"
        },
        "id": "-ZIYbW8sbcS9",
        "outputId": "fc2fb3dd-06e6-489d-d95b-d8675fb0f17f"
      },
      "execution_count": 23,
      "outputs": [
        {
          "output_type": "stream",
          "name": "stdout",
          "text": [
            "5\n",
            "(20, 25, 7.0710678118654755)\n"
          ]
        }
      ]
    },
    {
      "cell_type": "code",
      "source": [
        "def bank(a,years):\n",
        "  ans = a\n",
        "  for i in range(years):\n",
        "    ans *= 1.1\n",
        "  return ans\n",
        "\n",
        "\n"
      ],
      "metadata": {
        "id": "mJck1x9BcI5G"
      },
      "execution_count": 2,
      "outputs": []
    },
    {
      "cell_type": "code",
      "source": [
        "a, year = map(int,input().split())\n",
        "print(round(bank(a, year),2))\n"
      ],
      "metadata": {
        "colab": {
          "base_uri": "https://localhost:8080/"
        },
        "id": "pX6CPdMZcqJ_",
        "outputId": "765a7057-cb8f-44de-9191-05f8613a2cc8"
      },
      "execution_count": 11,
      "outputs": [
        {
          "output_type": "stream",
          "name": "stdout",
          "text": [
            "1 3\n",
            "1.33\n"
          ]
        }
      ]
    }
  ]
}